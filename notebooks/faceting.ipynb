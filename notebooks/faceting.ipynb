{
 "cells": [
  {
   "cell_type": "markdown",
   "metadata": {},
   "source": [
    "# Faceting\n",
    "---"
   ]
  },
  {
   "cell_type": "markdown",
   "metadata": {},
   "source": [
    "## Challenges\n",
    "\n",
    "For the lessons on plotting in DSI precourse, instead of doing regular challenges - you're being asked to write the code to make some basic plots in this Jupyter Notebook before committing your work and submitting the URL to your repository.\n",
    "\n",
    "To do so, you must be sure to first fork and clone this repo, and if you aren't sure how to do that, you can look back to those instructions [here.](https://learn-2.galvanize.com/content_link/github/gSchool/dsi-prep-module-setup/units/04_github/03_fork_clone_pull.md)\n",
    "\n",
    "The completion of this module requires a basic understanding of numpy, pandas, and matplotlib.pyplot. Please **_do not_** use any of the pandas built-in visualization tools.\n",
    "\n",
    "Lastly, you'll need to execute the cells with existing code to import the modules, and the data."
   ]
  },
  {
   "cell_type": "markdown",
   "metadata": {},
   "source": [
    "### Challenge 1\n",
    "\n",
    "For this challenge, you will be using the Johnson and Johnson Data set from before. You will need to do a little work to organize this data in a way that is useful for plotting.\n",
    "\n",
    "```\n",
    "      Qtr1  Qtr2  Qtr3  Qtr4\n",
    "      ----  ----  ----  ----\n",
    "1960  0.71  0.63  0.85  0.44\n",
    "1961  0.61  0.69  0.92  0.55\n",
    "1962  0.72  0.77  0.92  0.60\n",
    "1963  0.83  0.80  1.00  0.77\n",
    "1964  0.92  1.00  1.24  1.00\n",
    "1965  1.16  1.30  1.45  1.25\n",
    "1966  1.26  1.38  1.86  1.56\n",
    "1967  1.53  1.59  1.83  1.86\n",
    "1968  1.53  2.07  2.34  2.25\n",
    "1969  2.16  2.43  2.70  2.25\n",
    "1970  2.79  3.42  3.69  3.60\n",
    "1971  3.60  4.32  4.32  4.05\n",
    "1972  4.86  5.04  5.04  4.41\n",
    "1973  5.58  5.85  6.57  5.31\n",
    "1974  6.03  6.39  6.93  5.85\n",
    "1975  6.93  7.74  7.83  6.12\n",
    "1976  7.74  8.91  8.28  6.84\n",
    "1977  9.54 10.26  9.54  8.73\n",
    "1978 11.88 12.06 12.15  8.91\n",
    "1979 14.04 12.96 14.85  9.99\n",
    "1980 16.20 14.67 16.02 11.61\n",
    "\n",
    "```\n",
    "\n",
    "* Create a 4 row and 1 column plot where:\n",
    "    * The first row is a line graph of all the first quater earnings\n",
    "    * The second row is a line graph of all the second quater earnings\n",
    "    * The third row is a line graph of all the third quater earnings\n",
    "    * The fourth row is a line graph of all the fourth quater earnings\n",
    "* All the plots should have a title saying what quarter is being shown\n",
    "* All the plots plots but the final should not have an x-axis, the final plot should only have the even years on the axis\n",
    "* The y-axis should be called \"Earnings\"\n",
    "* The x-axis should be called \"Year\"\n",
    "* The whole plot should be titled \"Johnson and Johnson Quarterly Earnings\"\n"
   ]
  },
  {
   "cell_type": "code",
   "execution_count": 26,
   "metadata": {},
   "outputs": [
    {
     "data": {
      "image/png": "[encoded data removed]",
      "text/plain": [
       "<Figure size 432x288 with 4 Axes>"
      ]
     },
     "metadata": {
      "needs_background": "light"
     },
     "output_type": "display_data"
    }
   ],
   "source": [
    "# Your code below (You need to make the appropriate imports of matplotlib and numpy)\n",
    "import numpy as np\n",
    "import matplotlib.pyplot as plt\n",
    "import pandas as pd\n",
    "\n",
    "x = np.linspace(1960, 1980, num=21, dtype=int)\n",
    "data = \"0.71  0.63  0.85  0.44  0.61  0.69  0.92  0.55  0.72  0.77  0.92  0.60  0.83  0.80  1.00  0.77  0.92  1.00  1.24  1.00  1.16  1.30  1.45  1.25  1.26  1.38  1.86  1.56  1.53  1.59  1.83  1.86  1.53  2.07  2.34  2.25  2.16  2.43  2.70  2.25  2.79  3.42  3.69  3.60  3.60  4.32  4.32  4.05  4.86  5.04  5.04  4.41  5.58  5.85  6.57  5.31  6.03  6.39  6.93  5.85  6.93  7.74  7.83  6.12  7.74  8.91  8.28  6.84  9.54  10.26  9.54  8.73  11.88  12.06  12.15  8.91  14.04  12.96  14.85  9.99  16.20  14.67  16.02  11.61\"\n",
    "dataints = []\n",
    "for num in data.split(\"  \"):\n",
    "    dataints.append(float(num))\n",
    "y = np.array(dataints)\n",
    "\n",
    "Q1 = []\n",
    "Q2 = []\n",
    "Q3 = []\n",
    "Q4 = []\n",
    "\n",
    "for a, b in enumerate(dataints):\n",
    "    for i in range(0,85,4):\n",
    "        if a == i:\n",
    "            Q1.append(b)\n",
    "    for i in range(1,85,4):\n",
    "        if a == i:\n",
    "            Q2.append(b)\n",
    "    for i in range(2,85,4):\n",
    "        if a == i:\n",
    "            Q3.append(b)\n",
    "    for i in range(3,85,4):\n",
    "        if a == i:\n",
    "            Q4.append(b)\n",
    "\n",
    "tick_location = np.linspace(1960, 1980, num=11, dtype=int)\n",
    "tick_labels = tick_location            \n",
    "            \n",
    "plt.figure()\n",
    "plt.figtext(0.5, 1,\"Johnson and Johnson Quarterly Earnings\", ha=\"center\", fontsize=12)\n",
    "\n",
    "plt.subplot(4,1,1)\n",
    "plt.plot(x,np.array(Q1))\n",
    "plt.title(\"Quarter 1\")\n",
    "plt.xticks([])\n",
    "plt.ylabel(\"Earnings\")\n",
    "\n",
    "plt.subplot(4,1,2)\n",
    "plt.plot(x,np.array(Q2))\n",
    "plt.title(\"Quarter 2\")\n",
    "plt.xticks([])\n",
    "plt.ylabel(\"Earnings\")\n",
    "\n",
    "plt.subplot(4,1,3)\n",
    "plt.plot(x,np.array(Q3))\n",
    "plt.title(\"Quarter 3\")\n",
    "plt.xticks([])\n",
    "plt.ylabel(\"Earnings\")\n",
    "\n",
    "plt.subplot(4,1,4)\n",
    "plt.plot(x,np.array(Q4))\n",
    "plt.title(\"Quarter 4\")\n",
    "plt.xlabel(\"Year\")\n",
    "plt.ylabel(\"Earnings\")\n",
    "plt.xticks(tick_location, tick_labels, rotation = 45)\n",
    "\n",
    "plt.tight_layout()\n",
    "plt.show()            "
   ]
  },
  {
   "cell_type": "markdown",
   "metadata": {},
   "source": [
    "1. Once you're happy with your plot, paste your code in the cell below. Replace `plt.show()` with `plt.savefig('../images/jj_qrtr_earnings.png')` and execute the cell to export the image to a file\n",
    "\n",
    "This is a technique that is not shown in the lesson, but is perhaps the most common way that you might create an image which you are able to share or implement in a presentation."
   ]
  },
  {
   "cell_type": "code",
   "execution_count": 28,
   "metadata": {},
   "outputs": [
    {
     "data": {
      "image/png": "[encoded data removed]",
      "text/plain": [
       "<Figure size 432x288 with 4 Axes>"
      ]
     },
     "metadata": {
      "needs_background": "light"
     },
     "output_type": "display_data"
    }
   ],
   "source": [
    "# Paste your code here and export it\n",
    "# Your code below (You need to make the appropriate imports of matplotlib and numpy)\n",
    "import numpy as np\n",
    "import matplotlib.pyplot as plt\n",
    "import pandas as pd\n",
    "\n",
    "x = np.linspace(1960, 1980, num=21, dtype=int)\n",
    "data = \"0.71  0.63  0.85  0.44  0.61  0.69  0.92  0.55  0.72  0.77  0.92  0.60  0.83  0.80  1.00  0.77  0.92  1.00  1.24  1.00  1.16  1.30  1.45  1.25  1.26  1.38  1.86  1.56  1.53  1.59  1.83  1.86  1.53  2.07  2.34  2.25  2.16  2.43  2.70  2.25  2.79  3.42  3.69  3.60  3.60  4.32  4.32  4.05  4.86  5.04  5.04  4.41  5.58  5.85  6.57  5.31  6.03  6.39  6.93  5.85  6.93  7.74  7.83  6.12  7.74  8.91  8.28  6.84  9.54  10.26  9.54  8.73  11.88  12.06  12.15  8.91  14.04  12.96  14.85  9.99  16.20  14.67  16.02  11.61\"\n",
    "dataints = []\n",
    "for num in data.split(\"  \"):\n",
    "    dataints.append(float(num))\n",
    "y = np.array(dataints)\n",
    "\n",
    "Q1 = []\n",
    "Q2 = []\n",
    "Q3 = []\n",
    "Q4 = []\n",
    "\n",
    "for a, b in enumerate(dataints):\n",
    "    for i in range(0,85,4):\n",
    "        if a == i:\n",
    "            Q1.append(b)\n",
    "    for i in range(1,85,4):\n",
    "        if a == i:\n",
    "            Q2.append(b)\n",
    "    for i in range(2,85,4):\n",
    "        if a == i:\n",
    "            Q3.append(b)\n",
    "    for i in range(3,85,4):\n",
    "        if a == i:\n",
    "            Q4.append(b)\n",
    "\n",
    "tick_location = np.linspace(1960, 1980, num=11, dtype=int)\n",
    "tick_labels = tick_location            \n",
    "            \n",
    "plt.figure()\n",
    "plt.figtext(0.5, 1,\"Johnson and Johnson Quarterly Earnings\", ha=\"center\", fontsize=12)\n",
    "\n",
    "plt.subplot(4,1,1)\n",
    "plt.plot(x,np.array(Q1))\n",
    "plt.title(\"Quarter 1\")\n",
    "plt.xticks([])\n",
    "plt.ylabel(\"Earnings\")\n",
    "\n",
    "plt.subplot(4,1,2)\n",
    "plt.plot(x,np.array(Q2))\n",
    "plt.title(\"Quarter 2\")\n",
    "plt.xticks([])\n",
    "plt.ylabel(\"Earnings\")\n",
    "\n",
    "plt.subplot(4,1,3)\n",
    "plt.plot(x,np.array(Q3))\n",
    "plt.title(\"Quarter 3\")\n",
    "plt.xticks([])\n",
    "plt.ylabel(\"Earnings\")\n",
    "\n",
    "plt.subplot(4,1,4)\n",
    "plt.plot(x,np.array(Q4))\n",
    "plt.title(\"Quarter 4\")\n",
    "plt.xlabel(\"Year\")\n",
    "plt.ylabel(\"Earnings\")\n",
    "plt.xticks(tick_location, tick_labels, rotation = 45)\n",
    "\n",
    "plt.tight_layout()\n",
    "plt.savefig('../images/jj_qrtr_earnings.png')            "
   ]
  },
  {
   "cell_type": "markdown",
   "metadata": {},
   "source": [
    "### Challenge 2\n",
    "\n",
    "For this challenge you will be working with the **cars** data set. Run the cell below to import the data set."
   ]
  },
  {
   "cell_type": "code",
   "execution_count": 2,
   "metadata": {},
   "outputs": [
    {
     "data": {
      "text/html": [
       "<div>\n",
       "<style scoped>\n",
       "    .dataframe tbody tr th:only-of-type {\n",
       "        vertical-align: middle;\n",
       "    }\n",
       "\n",
       "    .dataframe tbody tr th {\n",
       "        vertical-align: top;\n",
       "    }\n",
       "\n",
       "    .dataframe thead th {\n",
       "        text-align: right;\n",
       "    }\n",
       "</style>\n",
       "<table border=\"1\" class=\"dataframe\">\n",
       "  <thead>\n",
       "    <tr style=\"text-align: right;\">\n",
       "      <th></th>\n",
       "      <th>make_model</th>\n",
       "      <th>mpg</th>\n",
       "      <th>cyl</th>\n",
       "      <th>disp</th>\n",
       "      <th>hp</th>\n",
       "      <th>drat</th>\n",
       "      <th>wt</th>\n",
       "      <th>qsec</th>\n",
       "      <th>vs</th>\n",
       "      <th>am</th>\n",
       "      <th>gear</th>\n",
       "      <th>carb</th>\n",
       "    </tr>\n",
       "  </thead>\n",
       "  <tbody>\n",
       "    <tr>\n",
       "      <th>0</th>\n",
       "      <td>Mazda RX4</td>\n",
       "      <td>21.0</td>\n",
       "      <td>6</td>\n",
       "      <td>160.0</td>\n",
       "      <td>110</td>\n",
       "      <td>3.90</td>\n",
       "      <td>2.620</td>\n",
       "      <td>16.46</td>\n",
       "      <td>0</td>\n",
       "      <td>1</td>\n",
       "      <td>4</td>\n",
       "      <td>4</td>\n",
       "    </tr>\n",
       "    <tr>\n",
       "      <th>1</th>\n",
       "      <td>Mazda RX4 Wag</td>\n",
       "      <td>21.0</td>\n",
       "      <td>6</td>\n",
       "      <td>160.0</td>\n",
       "      <td>110</td>\n",
       "      <td>3.90</td>\n",
       "      <td>2.875</td>\n",
       "      <td>17.02</td>\n",
       "      <td>0</td>\n",
       "      <td>1</td>\n",
       "      <td>4</td>\n",
       "      <td>4</td>\n",
       "    </tr>\n",
       "    <tr>\n",
       "      <th>2</th>\n",
       "      <td>Datsun 710</td>\n",
       "      <td>22.8</td>\n",
       "      <td>4</td>\n",
       "      <td>108.0</td>\n",
       "      <td>93</td>\n",
       "      <td>3.85</td>\n",
       "      <td>2.320</td>\n",
       "      <td>18.61</td>\n",
       "      <td>1</td>\n",
       "      <td>1</td>\n",
       "      <td>4</td>\n",
       "      <td>1</td>\n",
       "    </tr>\n",
       "    <tr>\n",
       "      <th>3</th>\n",
       "      <td>Hornet 4 Drive</td>\n",
       "      <td>21.4</td>\n",
       "      <td>6</td>\n",
       "      <td>258.0</td>\n",
       "      <td>110</td>\n",
       "      <td>3.08</td>\n",
       "      <td>3.215</td>\n",
       "      <td>19.44</td>\n",
       "      <td>1</td>\n",
       "      <td>0</td>\n",
       "      <td>3</td>\n",
       "      <td>1</td>\n",
       "    </tr>\n",
       "    <tr>\n",
       "      <th>4</th>\n",
       "      <td>Hornet Sportabout</td>\n",
       "      <td>18.7</td>\n",
       "      <td>8</td>\n",
       "      <td>360.0</td>\n",
       "      <td>175</td>\n",
       "      <td>3.15</td>\n",
       "      <td>3.440</td>\n",
       "      <td>17.02</td>\n",
       "      <td>0</td>\n",
       "      <td>0</td>\n",
       "      <td>3</td>\n",
       "      <td>2</td>\n",
       "    </tr>\n",
       "  </tbody>\n",
       "</table>\n",
       "</div>"
      ],
      "text/plain": [
       "          make_model   mpg  cyl   disp   hp  drat     wt   qsec  vs  am  gear  \\\n",
       "0          Mazda RX4  21.0    6  160.0  110  3.90  2.620  16.46   0   1     4   \n",
       "1      Mazda RX4 Wag  21.0    6  160.0  110  3.90  2.875  17.02   0   1     4   \n",
       "2         Datsun 710  22.8    4  108.0   93  3.85  2.320  18.61   1   1     4   \n",
       "3     Hornet 4 Drive  21.4    6  258.0  110  3.08  3.215  19.44   1   0     3   \n",
       "4  Hornet Sportabout  18.7    8  360.0  175  3.15  3.440  17.02   0   0     3   \n",
       "\n",
       "   carb  \n",
       "0     4  \n",
       "1     4  \n",
       "2     1  \n",
       "3     1  \n",
       "4     2  "
      ]
     },
     "execution_count": 2,
     "metadata": {},
     "output_type": "execute_result"
    }
   ],
   "source": [
    "import numpy as np\n",
    "import matplotlib.pyplot as plt\n",
    "import pandas as pd\n",
    "\n",
    "cars_data = pd.read_csv('../data/cars.csv', sep='|')\n",
    "cars_data.rename(columns={'Unnamed: 0': 'make_model'}, inplace=True)\n",
    "cars_data.head()"
   ]
  },
  {
   "cell_type": "markdown",
   "metadata": {},
   "source": [
    "For this challenge:\n",
    "* Facet the plots on the number of cylenders each vechical has\n",
    "* Create a single row with with the number of correct plots\n",
    "* Use a scatter plot to show the relation between horse power and quarter mile time\n",
    "* On the x axis plot the horse power\n",
    "* On the y axis plot the the quarter mile time (qsec)\n",
    "* Each plot should have a title saying the number of cylinders\n",
    "* Give each axis an appropriate name"
   ]
  },
  {
   "cell_type": "code",
   "execution_count": 45,
   "metadata": {},
   "outputs": [
    {
     "data": {
      "image/png": "[encoded data removed]",
      "text/plain": [
       "<Figure size 432x288 with 3 Axes>"
      ]
     },
     "metadata": {
      "needs_background": "light"
     },
     "output_type": "display_data"
    }
   ],
   "source": [
    "# Write your code here\n",
    "cars_data = cars_data.sort_values(\"hp\")\n",
    "\n",
    "cyl4 = cars_data.groupby(\"cyl\").get_group(4)\n",
    "cyl6 = cars_data.groupby(\"cyl\").get_group(6)\n",
    "cyl8 = cars_data.groupby(\"cyl\").get_group(8)\n",
    "\n",
    "tick_location = np.linspace(50,350, num=6, dtype=int)\n",
    "tick_labels = tick_location\n",
    "\n",
    "plt.figure()\n",
    "\n",
    "plt.subplot(1,3,1)\n",
    "plt.title(\"4 Cylinder\")\n",
    "plt.plot(cyl4[\"hp\"], cyl4[\"qsec\"])\n",
    "plt.ylabel(\"Quarter Mile Time (seconds)\")\n",
    "plt.ylim(14,25)\n",
    "\n",
    "plt.subplot(1,3,2)\n",
    "plt.title(\"6 Cylinder\")\n",
    "plt.plot(cyl6[\"hp\"], cyl6[\"qsec\"])\n",
    "plt.xlabel(\"Horsepower\")\n",
    "plt.ylim(14,25)\n",
    "\n",
    "plt.subplot(1,3,3)\n",
    "plt.title(\"8 Cylinder\")\n",
    "plt.plot(cyl8[\"hp\"], cyl8[\"qsec\"])\n",
    "plt.ylim(14,25)\n",
    "\n",
    "plt.tight_layout()\n",
    "plt.show()"
   ]
  },
  {
   "cell_type": "markdown",
   "metadata": {},
   "source": [
    "1. Once you're happy with your plot, paste your code in the cell below. Replace `plt.show()` with `plt.savefig('../images/facet_cyl_cars.png')` and execute the cell to export the image to a file\n",
    "\n",
    "This is a technique that is not shown in the lesson, but is perhaps the most common way that you might create an image which you are able to share or implement in a presentation."
   ]
  },
  {
   "cell_type": "code",
   "execution_count": 46,
   "metadata": {},
   "outputs": [
    {
     "data": {
      "image/png": "[encoded data removed]",
      "text/plain": [
       "<Figure size 432x288 with 3 Axes>"
      ]
     },
     "metadata": {
      "needs_background": "light"
     },
     "output_type": "display_data"
    }
   ],
   "source": [
    "# Write your code here\n",
    "cars_data = cars_data.sort_values(\"hp\")\n",
    "\n",
    "cyl4 = cars_data.groupby(\"cyl\").get_group(4)\n",
    "cyl6 = cars_data.groupby(\"cyl\").get_group(6)\n",
    "cyl8 = cars_data.groupby(\"cyl\").get_group(8)\n",
    "\n",
    "tick_location = np.linspace(50,350, num=6, dtype=int)\n",
    "tick_labels = tick_location\n",
    "\n",
    "plt.figure()\n",
    "\n",
    "plt.subplot(1,3,1)\n",
    "plt.title(\"4 Cylinder\")\n",
    "plt.plot(cyl4[\"hp\"], cyl4[\"qsec\"])\n",
    "plt.ylabel(\"Quarter Mile Time (seconds)\")\n",
    "plt.ylim(14,25)\n",
    "\n",
    "plt.subplot(1,3,2)\n",
    "plt.title(\"6 Cylinder\")\n",
    "plt.plot(cyl6[\"hp\"], cyl6[\"qsec\"])\n",
    "plt.xlabel(\"Horsepower\")\n",
    "plt.ylim(14,25)\n",
    "\n",
    "plt.subplot(1,3,3)\n",
    "plt.title(\"8 Cylinder\")\n",
    "plt.plot(cyl8[\"hp\"], cyl8[\"qsec\"])\n",
    "plt.ylim(14,25)\n",
    "\n",
    "plt.tight_layout()\n",
    "plt.savefig('../images/facet_cyl_cars.png')"
   ]
  },
  {
   "cell_type": "code",
   "execution_count": null,
   "metadata": {},
   "outputs": [],
   "source": []
  }
 ],
 "metadata": {
  "kernelspec": {
   "display_name": "Python 3",
   "language": "python",
   "name": "python3"
  },
  "language_info": {
   "codemirror_mode": {
    "name": "ipython",
    "version": 3
   },
   "file_extension": ".py",
   "mimetype": "text/x-python",
   "name": "python",
   "nbconvert_exporter": "python",
   "pygments_lexer": "ipython3",
   "version": "3.8.3"
  }
 },
 "nbformat": 4,
 "nbformat_minor": 5
}
